{
 "cells": [
  {
   "cell_type": "code",
   "execution_count": 5,
   "metadata": {
    "collapsed": true
   },
   "outputs": [],
   "source": [
    "from subprocess import Popen\n",
    "import pychrome\n",
    "import time\n",
    "from tempfile import mkdtemp\n",
    "chrome_path = r\"C:\\Program Files\\Google\\Chrome\\Application\\chrome.exe\"\n",
    "cmd = [chrome_path, \"--remote-debugging-port=9222\", f\"--user-data-dir={mkdtemp()}\"]\n"
   ]
  },
  {
   "cell_type": "code",
   "execution_count": 6,
   "outputs": [],
   "source": [
    "p = Popen(cmd)"
   ],
   "metadata": {
    "collapsed": false,
    "pycharm": {
     "name": "#%%\n"
    }
   }
  },
  {
   "cell_type": "code",
   "execution_count": 7,
   "outputs": [],
   "source": [
    "for i in range(5):\n",
    "    try:\n",
    "        browser = pychrome.Browser(url=\"http://127.0.0.1:9222\")\n",
    "        tab = browser.list_tab()[0]\n",
    "        break\n",
    "    except IndexError:\n",
    "        time.sleep(1)\n",
    "else:\n",
    "    print(\"Waited for 5 seconds, but chrome browser didn't open. Exiting...\")"
   ],
   "metadata": {
    "collapsed": false,
    "pycharm": {
     "name": "#%%\n"
    }
   }
  },
  {
   "cell_type": "code",
   "execution_count": 40,
   "outputs": [
    {
     "data": {
      "text/plain": "{}"
     },
     "execution_count": 40,
     "metadata": {},
     "output_type": "execute_result"
    }
   ],
   "source": [
    "tab.start()\n",
    "tab.Page.enable()\n",
    "tab.Runtime.enable()\n",
    "tab.DOM.enable()\n",
    "tab.CSS.enable()"
   ],
   "metadata": {
    "collapsed": false,
    "pycharm": {
     "name": "#%%\n"
    }
   }
  },
  {
   "cell_type": "code",
   "execution_count": 10,
   "outputs": [
    {
     "data": {
      "text/plain": "{'frameId': '39C5437D3D0A5AD4D91254693CAF1BD9',\n 'loaderId': 'F95CB3EBC3B58171470CF163DF029DA7'}"
     },
     "execution_count": 10,
     "metadata": {},
     "output_type": "execute_result"
    }
   ],
   "source": [
    "tab.Page.navigate(url=\"https://example.com/\")"
   ],
   "metadata": {
    "collapsed": false,
    "pycharm": {
     "name": "#%%\n"
    }
   }
  },
  {
   "cell_type": "code",
   "execution_count": 41,
   "outputs": [],
   "source": [
    "tab.CSS.startRuleUsageTracking()\n",
    "# coverage = tab.CSS.takeCoverageDelta()\n",
    "coverageStop = tab.CSS.stopRuleUsageTracking()"
   ],
   "metadata": {
    "collapsed": false,
    "pycharm": {
     "name": "#%%\n"
    }
   }
  },
  {
   "cell_type": "code",
   "execution_count": 42,
   "outputs": [
    {
     "data": {
      "text/plain": "{'ruleUsage': [{'styleSheetId': '15872.2',\n   'startOffset': 30713,\n   'endOffset': 30778,\n   'used': True},\n  {'styleSheetId': '15872.2',\n   'startOffset': 28246,\n   'endOffset': 28324,\n   'used': True},\n  {'styleSheetId': '15872.2',\n   'startOffset': 30656,\n   'endOffset': 30713,\n   'used': True},\n  {'styleSheetId': '15872.2',\n   'startOffset': 56018,\n   'endOffset': 56201,\n   'used': True},\n  {'styleSheetId': '15872.2',\n   'startOffset': 56239,\n   'endOffset': 56259,\n   'used': True},\n  {'styleSheetId': '15872.2',\n   'startOffset': 56302,\n   'endOffset': 56324,\n   'used': True},\n  {'styleSheetId': '15872.2',\n   'startOffset': 28324,\n   'endOffset': 28338,\n   'used': True},\n  {'styleSheetId': '15872.2',\n   'startOffset': 28338,\n   'endOffset': 28392,\n   'used': True},\n  {'styleSheetId': '15872.2',\n   'startOffset': 43558,\n   'endOffset': 43604,\n   'used': True},\n  {'styleSheetId': '15872.2',\n   'startOffset': 28392,\n   'endOffset': 28425,\n   'used': True},\n  {'styleSheetId': '15872.2',\n   'startOffset': 56389,\n   'endOffset': 56439,\n   'used': True},\n  {'styleSheetId': '15872.2',\n   'startOffset': 56489,\n   'endOffset': 56552,\n   'used': True},\n  {'styleSheetId': '15872.2',\n   'startOffset': 56552,\n   'endOffset': 56626,\n   'used': True},\n  {'styleSheetId': '15872.2',\n   'startOffset': 28425,\n   'endOffset': 28462,\n   'used': True},\n  {'styleSheetId': '15872.2',\n   'startOffset': 57060,\n   'endOffset': 57088,\n   'used': True},\n  {'styleSheetId': '15872.2',\n   'startOffset': 57131,\n   'endOffset': 57161,\n   'used': True},\n  {'styleSheetId': '15872.2',\n   'startOffset': 57204,\n   'endOffset': 57234,\n   'used': True},\n  {'styleSheetId': '15872.2',\n   'startOffset': 57277,\n   'endOffset': 57307,\n   'used': True},\n  {'styleSheetId': '15872.2',\n   'startOffset': 57350,\n   'endOffset': 57380,\n   'used': True},\n  {'styleSheetId': '15872.2',\n   'startOffset': 57423,\n   'endOffset': 57452,\n   'used': True},\n  {'styleSheetId': '15872.2',\n   'startOffset': 57495,\n   'endOffset': 57525,\n   'used': True},\n  {'styleSheetId': '15872.2',\n   'startOffset': 57568,\n   'endOffset': 57598,\n   'used': True},\n  {'styleSheetId': '15872.2',\n   'startOffset': 57641,\n   'endOffset': 57671,\n   'used': True},\n  {'styleSheetId': '15872.2',\n   'startOffset': 57714,\n   'endOffset': 57744,\n   'used': True},\n  {'styleSheetId': '15872.2',\n   'startOffset': 57787,\n   'endOffset': 57816,\n   'used': True},\n  {'styleSheetId': '15872.2',\n   'startOffset': 57859,\n   'endOffset': 57889,\n   'used': True},\n  {'styleSheetId': '15872.2',\n   'startOffset': 57932,\n   'endOffset': 57962,\n   'used': True},\n  {'styleSheetId': '15872.2',\n   'startOffset': 58005,\n   'endOffset': 58035,\n   'used': True},\n  {'styleSheetId': '15872.2',\n   'startOffset': 58078,\n   'endOffset': 58108,\n   'used': True},\n  {'styleSheetId': '15872.2',\n   'startOffset': 58151,\n   'endOffset': 58180,\n   'used': True},\n  {'styleSheetId': '15872.2',\n   'startOffset': 58223,\n   'endOffset': 58253,\n   'used': True},\n  {'styleSheetId': '15872.2',\n   'startOffset': 58296,\n   'endOffset': 58326,\n   'used': True},\n  {'styleSheetId': '15872.2',\n   'startOffset': 58369,\n   'endOffset': 58399,\n   'used': True},\n  {'styleSheetId': '15872.2',\n   'startOffset': 58442,\n   'endOffset': 58472,\n   'used': True},\n  {'styleSheetId': '15872.2',\n   'startOffset': 58515,\n   'endOffset': 58544,\n   'used': True},\n  {'styleSheetId': '15872.1', 'startOffset': 0, 'endOffset': 85, 'used': True},\n  {'styleSheetId': '15872.1',\n   'startOffset': 87,\n   'endOffset': 304,\n   'used': True},\n  {'styleSheetId': '15872.1',\n   'startOffset': 306,\n   'endOffset': 380,\n   'used': True},\n  {'styleSheetId': '15872.1',\n   'startOffset': 382,\n   'endOffset': 467,\n   'used': True},\n  {'styleSheetId': '15872.1',\n   'startOffset': 695,\n   'endOffset': 848,\n   'used': True},\n  {'styleSheetId': '15872.1',\n   'startOffset': 469,\n   'endOffset': 555,\n   'used': True},\n  {'styleSheetId': '15872.1',\n   'startOffset': 557,\n   'endOffset': 643,\n   'used': True},\n  {'styleSheetId': '15872.1',\n   'startOffset': 645,\n   'endOffset': 693,\n   'used': True}]}"
     },
     "execution_count": 42,
     "metadata": {},
     "output_type": "execute_result"
    }
   ],
   "source": [
    "coverageStop"
   ],
   "metadata": {
    "collapsed": false,
    "pycharm": {
     "name": "#%%\n"
    }
   }
  },
  {
   "cell_type": "code",
   "execution_count": 45,
   "outputs": [
    {
     "data": {
      "text/plain": "{}"
     },
     "execution_count": 45,
     "metadata": {},
     "output_type": "execute_result"
    }
   ],
   "source": [
    "tab.Profiler.enable()"
   ],
   "metadata": {
    "collapsed": false,
    "pycharm": {
     "name": "#%%\n"
    }
   }
  },
  {
   "cell_type": "code",
   "execution_count": 48,
   "outputs": [
    {
     "data": {
      "text/plain": "{'timestamp': 950364.446331}"
     },
     "execution_count": 48,
     "metadata": {},
     "output_type": "execute_result"
    }
   ],
   "source": [
    "tab.Profiler.startPreciseCoverage()"
   ],
   "metadata": {
    "collapsed": false,
    "pycharm": {
     "name": "#%%\n"
    }
   }
  },
  {
   "cell_type": "code",
   "execution_count": 54,
   "outputs": [
    {
     "data": {
      "text/plain": "{}"
     },
     "execution_count": 54,
     "metadata": {},
     "output_type": "execute_result"
    }
   ],
   "source": [
    "tab.Profiler.stopPreciseCoverage()"
   ],
   "metadata": {
    "collapsed": false,
    "pycharm": {
     "name": "#%%\n"
    }
   }
  },
  {
   "cell_type": "code",
   "execution_count": null,
   "outputs": [],
   "source": [],
   "metadata": {
    "collapsed": false,
    "pycharm": {
     "name": "#%%\n"
    }
   }
  }
 ],
 "metadata": {
  "kernelspec": {
   "display_name": "Python 3",
   "language": "python",
   "name": "python3"
  },
  "language_info": {
   "codemirror_mode": {
    "name": "ipython",
    "version": 2
   },
   "file_extension": ".py",
   "mimetype": "text/x-python",
   "name": "python",
   "nbconvert_exporter": "python",
   "pygments_lexer": "ipython2",
   "version": "2.7.6"
  }
 },
 "nbformat": 4,
 "nbformat_minor": 0
}